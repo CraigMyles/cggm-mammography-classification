{
 "cells": [
  {
   "cell_type": "code",
   "execution_count": null,
   "id": "failing-hygiene",
   "metadata": {},
   "outputs": [],
   "source": [
    "import keras\n",
    "import tensorflow as tf\n",
    "from keras_preprocessing.image import ImageDataGenerator\n",
    "import time, os, fnmatch, shutil"
   ]
  },
  {
   "cell_type": "code",
   "execution_count": null,
   "id": "available-fence",
   "metadata": {},
   "outputs": [],
   "source": [
    "cmmd_dir = \"/media/craig/Larry/python/\"\n",
    "\n",
    "train_datagen = ImageDataGenerator(\n",
    "#         rescale=1./255,\n",
    "        shear_range=0.2,\n",
    "        zoom_range=0.2,\n",
    "        horizontal_flip=True,\n",
    "        preprocessing_function=tf.keras.applications.xception.preprocess_input)\n",
    "test_datagen = ImageDataGenerator(\n",
    "#         rescale=1./255,\n",
    "         preprocessing_function=tf.keras.applications.xception.preprocess_input)\n",
    "train_generator = train_datagen.flow_from_directory(\n",
    "        cmmd_dir+\"subset_two/PNG/TRAIN/\",\n",
    "        target_size=(299, 299),\n",
    "        batch_size=32,\n",
    "        shuffle=True,\n",
    "        class_mode='binary',\n",
    "        seed=14)\n",
    "validation_generator = test_datagen.flow_from_directory(\n",
    "        cmmd_dir+\"subset_two/PNG/VAL/\",\n",
    "        target_size=(299, 299),\n",
    "        batch_size=32,\n",
    "        shuffle=True,\n",
    "        class_mode='binary',\n",
    "        seed=14)"
   ]
  },
  {
   "cell_type": "code",
   "execution_count": null,
   "id": "prospective-dynamics",
   "metadata": {},
   "outputs": [],
   "source": [
    "#load model\n",
    "model = keras.models.load_model(\"/media/craig/Henry/ML_models/xception_aug/save_at_9.h5\")"
   ]
  },
  {
   "cell_type": "code",
   "execution_count": null,
   "id": "biblical-minimum",
   "metadata": {},
   "outputs": [],
   "source": [
    "print(model.summary())"
   ]
  },
  {
   "cell_type": "code",
   "execution_count": null,
   "id": "formal-metallic",
   "metadata": {},
   "outputs": [],
   "source": [
    "model.trainable = True"
   ]
  },
  {
   "cell_type": "code",
   "execution_count": null,
   "id": "unlike-duration",
   "metadata": {
    "scrolled": false
   },
   "outputs": [],
   "source": [
    "print(model.summary())"
   ]
  },
  {
   "cell_type": "code",
   "execution_count": null,
   "id": "disciplinary-usage",
   "metadata": {},
   "outputs": [],
   "source": [
    "import time, os, fnmatch, shutil\n",
    "root_logdir = os.path.join(os.curdir, \"my_logs\")\n",
    "\n",
    "def get_run_logdir():\n",
    "    #TensorBaoard TITLE:\n",
    "    run_id = (\"Xception_Transfer_Learning_FT_2\")\n",
    "    return os.path.join(root_logdir,run_id)\n",
    "\n",
    "run_logdir = get_run_logdir()\n",
    "tensorboard_cb = keras.callbacks.TensorBoard(run_logdir)\n",
    "\n",
    "callbacks = [\n",
    "    keras.callbacks.ModelCheckpoint(\"/media/craig/Henry/ML_models/xception_ft_2/save_at_{epoch}.h5\"),\n",
    "    keras.callbacks.TensorBoard(run_logdir)\n",
    "]"
   ]
  },
  {
   "cell_type": "code",
   "execution_count": null,
   "id": "forward-fleet",
   "metadata": {
    "scrolled": false
   },
   "outputs": [],
   "source": [
    "model.compile(optimizer=keras.optimizers.Adam(learning_rate=0.000001),\n",
    "              loss=keras.losses.BinaryCrossentropy(from_logits=True),\n",
    "              metrics=[keras.metrics.BinaryAccuracy()])\n",
    "history = model.fit(train_generator, epochs=200, callbacks=callbacks, validation_data=validation_generator)"
   ]
  }
 ],
 "metadata": {
  "kernelspec": {
   "display_name": "Python 3",
   "language": "python",
   "name": "python3"
  },
  "language_info": {
   "codemirror_mode": {
    "name": "ipython",
    "version": 3
   },
   "file_extension": ".py",
   "mimetype": "text/x-python",
   "name": "python",
   "nbconvert_exporter": "python",
   "pygments_lexer": "ipython3",
   "version": "3.8.10"
  }
 },
 "nbformat": 4,
 "nbformat_minor": 5
}
