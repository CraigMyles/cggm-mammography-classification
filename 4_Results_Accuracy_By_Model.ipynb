{
 "cells": [
  {
   "cell_type": "code",
   "execution_count": null,
   "id": "impressive-divide",
   "metadata": {},
   "outputs": [],
   "source": [
    "import keras\n",
    "import tensorflow as tf\n",
    "from keras_preprocessing.image import ImageDataGenerator\n",
    "\n",
    "import numpy as np\n",
    "from sklearn.metrics import classification_report, confusion_matrix, roc_auc_score"
   ]
  },
  {
   "cell_type": "code",
   "execution_count": null,
   "id": "heavy-nelson",
   "metadata": {},
   "outputs": [],
   "source": [
    "cmmd_dir = \"/media/craig/6848080D4807D928/st_andrews/CMMD_dataset/\"\n",
    "\n",
    "\n",
    "test_datagen = ImageDataGenerator(\n",
    "    rescale=1./255,\n",
    "    horizontal_flip=True)\n",
    "\n",
    "test_generator = test_datagen.flow_from_directory(\n",
    "        cmmd_dir+\"subset_two/PNG/TEST/\",\n",
    "        target_size=(256, 256),\n",
    "        color_mode=\"grayscale\",\n",
    "        batch_size=1,\n",
    "        shuffle=False,\n",
    "        class_mode='binary',\n",
    "        seed=14)\n",
    "\n",
    "filenames = test_generator.filenames\n",
    "nb_samples = len(filenames)\n",
    "nb_samples"
   ]
  },
  {
   "cell_type": "code",
   "execution_count": null,
   "id": "accepting-racing",
   "metadata": {},
   "outputs": [],
   "source": [
    "def test_model(model):\n",
    "    \n",
    "    predictions = model.predict(test_generator)\n",
    "    class_one = predictions > 0.5\n",
    "    acc = np.mean(class_one == test_generator.classes)\n",
    "    print(\"Accuracy: \"+str(acc))\n",
    "    y_true = test_generator.classes\n",
    "    auc_score = roc_auc_score(y_true, predictions)\n",
    "    print(\"AUC:\"+ str(auc_score))\n",
    "    model_eval = model.evaluate(test_generator)\n",
    "    predictions = (model.predict(test_generator) > 0.5).astype(\"int32\")\n",
    "    predictions = predictions.reshape(1,-1)[0]\n",
    "    print(classification_report(y_true, predictions, target_names = ['Malignant (Class 0)','Benign (Class 1)']))"
   ]
  },
  {
   "cell_type": "markdown",
   "id": "funded-smoke",
   "metadata": {},
   "source": [
    "## AlexNet"
   ]
  },
  {
   "cell_type": "code",
   "execution_count": null,
   "id": "traditional-report",
   "metadata": {},
   "outputs": [],
   "source": [
    "print(\"AlexNet\")\n",
    "test_model(model=keras.models.load_model(\"/media/craig/Henry/ML_models/alexnet/save_at_47.h5\"))"
   ]
  },
  {
   "cell_type": "markdown",
   "id": "sunset-morning",
   "metadata": {},
   "source": [
    "# LeNet"
   ]
  },
  {
   "cell_type": "code",
   "execution_count": null,
   "id": "exterior-envelope",
   "metadata": {},
   "outputs": [],
   "source": [
    "print(\"LeNet\")\n",
    "model=keras.models.load_model(\"/media/craig/Henry/ML_models/lenet/save_at_45.h5\")\n",
    "test_model(model=model)\n"
   ]
  },
  {
   "cell_type": "markdown",
   "id": "crazy-alfred",
   "metadata": {},
   "source": [
    "# VGG16"
   ]
  },
  {
   "cell_type": "code",
   "execution_count": null,
   "id": "permanent-electron",
   "metadata": {
    "scrolled": true
   },
   "outputs": [],
   "source": [
    "print(\"VGG16\")\n",
    "\n",
    "test_datagen = ImageDataGenerator(\n",
    "        preprocessing_function=tf.keras.applications.vgg16.preprocess_input\n",
    ")\n",
    "\n",
    "test_generator = test_datagen.flow_from_directory(\n",
    "        cmmd_dir+\"subset_two/PNG/TEST/\",\n",
    "        color_mode='rgb',\n",
    "        target_size=(224, 224),\n",
    "        batch_size=1,\n",
    "        shuffle=False,\n",
    "        class_mode='binary',\n",
    "        seed=11)\n",
    "\n",
    "test_model(model=keras.models.load_model(\"/media/craig/Ralph/ML_models/vgg16/save_at_75.h5\"))"
   ]
  },
  {
   "cell_type": "markdown",
   "id": "universal-embassy",
   "metadata": {},
   "source": [
    "# ResNet50"
   ]
  },
  {
   "cell_type": "code",
   "execution_count": null,
   "id": "authorized-buffer",
   "metadata": {},
   "outputs": [],
   "source": [
    "print(\"ResNet50\")\n",
    "\n",
    "test_datagen = ImageDataGenerator(\n",
    "        preprocessing_function=keras.applications.resnet50.preprocess_input\n",
    ")\n",
    "\n",
    "test_generator = test_datagen.flow_from_directory(\n",
    "        cmmd_dir+\"subset_two/PNG/TEST/\",\n",
    "        color_mode='rgb',\n",
    "        target_size=(224, 224),\n",
    "        batch_size=1,\n",
    "        shuffle=False,\n",
    "        class_mode='binary',\n",
    "        seed=11)\n",
    "\n",
    "test_model(model=keras.models.load_model(\"/media/craig/Ralph/ML_models/resnet50/save_at_6.h5\"))"
   ]
  },
  {
   "cell_type": "markdown",
   "id": "liquid-desire",
   "metadata": {},
   "source": [
    "# Xception"
   ]
  },
  {
   "cell_type": "code",
   "execution_count": null,
   "id": "increased-bleeding",
   "metadata": {},
   "outputs": [],
   "source": [
    "print(\"Xception\")\n",
    "\n",
    "test_datagen = ImageDataGenerator(\n",
    "        preprocessing_function=tf.keras.applications.xception.preprocess_input\n",
    ")\n",
    "\n",
    "test_generator = test_datagen.flow_from_directory(\n",
    "        cmmd_dir+\"subset_two/PNG/TEST/\",\n",
    "        color_mode='rgb',\n",
    "        target_size=(299, 299),\n",
    "        batch_size=1,\n",
    "        shuffle=False,\n",
    "        class_mode='binary',\n",
    "        seed=11)\n",
    "\n",
    "test_model(model=keras.models.load_model(\"/media/craig/Henry/ML_models/xception_aug/save_at_9.h5\"))"
   ]
  },
  {
   "cell_type": "code",
   "execution_count": null,
   "id": "objective-labor",
   "metadata": {},
   "outputs": [],
   "source": [
    "print(\"Xception Fine Tune with Aug\")\n",
    "\n",
    "test_datagen = ImageDataGenerator(\n",
    "        preprocessing_function=tf.keras.applications.xception.preprocess_input\n",
    ")\n",
    "\n",
    "test_generator = test_datagen.flow_from_directory(\n",
    "        cmmd_dir+\"subset_two/PNG/TEST/\",\n",
    "        color_mode='rgb',\n",
    "        target_size=(224, 224),\n",
    "        batch_size=1,\n",
    "        shuffle=False,\n",
    "        class_mode='binary',\n",
    "        seed=11)\n",
    "\n",
    "test_model(model=keras.models.load_model(\"/media/craig/Henry/ML_models/xception_ft_2/save_at_9.h5\"))"
   ]
  },
  {
   "cell_type": "markdown",
   "id": "greek-carnival",
   "metadata": {},
   "source": [
    "# Xception (Fine-Tuned) (but not based on the previous experiment)"
   ]
  },
  {
   "cell_type": "code",
   "execution_count": null,
   "id": "scheduled-modern",
   "metadata": {},
   "outputs": [],
   "source": [
    "print(\"Xception (Fine Tune)\")\n",
    "\n",
    "test_datagen = ImageDataGenerator(\n",
    "        preprocessing_function=tf.keras.applications.xception.preprocess_input\n",
    ")\n",
    "\n",
    "test_generator = test_datagen.flow_from_directory(\n",
    "        cmmd_dir+\"subset_two/PNG/TEST/\",\n",
    "        color_mode='rgb',\n",
    "        target_size=(224, 224),\n",
    "        batch_size=1,\n",
    "        shuffle=False,\n",
    "        class_mode='binary',\n",
    "        seed=11)\n",
    "\n",
    "test_model(model=keras.models.load_model(\"/media/craig/Henry/ML_models/xception_ft_1/save_at_46.h5\"))"
   ]
  },
  {
   "cell_type": "code",
   "execution_count": null,
   "id": "intellectual-vault",
   "metadata": {},
   "outputs": [],
   "source": [
    "print(\"Xception (Fine Tune)\")\n",
    "\n",
    "test_datagen = ImageDataGenerator(\n",
    "        preprocessing_function=tf.keras.applications.xception.preprocess_input\n",
    ")\n",
    "\n",
    "test_generator = test_datagen.flow_from_directory(\n",
    "        cmmd_dir+\"subset_two/PNG/TEST/\",\n",
    "        color_mode='rgb',\n",
    "        target_size=(299, 299),\n",
    "        batch_size=1,\n",
    "        shuffle=False,\n",
    "        class_mode='binary',\n",
    "        seed=11)\n",
    "\n",
    "test_model(model=keras.models.load_model(\"/media/craig/Henry/ML_models/xception_ft_1/save_at_46.h5\"))"
   ]
  }
 ],
 "metadata": {
  "kernelspec": {
   "display_name": "Python 3",
   "language": "python",
   "name": "python3"
  },
  "language_info": {
   "codemirror_mode": {
    "name": "ipython",
    "version": 3
   },
   "file_extension": ".py",
   "mimetype": "text/x-python",
   "name": "python",
   "nbconvert_exporter": "python",
   "pygments_lexer": "ipython3",
   "version": "3.8.10"
  }
 },
 "nbformat": 4,
 "nbformat_minor": 5
}
