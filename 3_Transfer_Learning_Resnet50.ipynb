{
 "cells": [
  {
   "cell_type": "code",
   "execution_count": null,
   "id": "educated-thong",
   "metadata": {},
   "outputs": [],
   "source": [
    "import numpy as np\n",
    "import keras\n",
    "import tensorflow as tf\n",
    "from keras_preprocessing.image import ImageDataGenerator\n",
    "from keras.applications import ResNet50\n",
    "from keras.applications.resnet50 import preprocess_input\n",
    "import time, os, fnmatch, shutil"
   ]
  },
  {
   "cell_type": "code",
   "execution_count": null,
   "id": "announced-small",
   "metadata": {},
   "outputs": [],
   "source": [
    "cmmd_dir = \"/media/craig/Larry/python/\"\n",
    "\n",
    "train_datagen = ImageDataGenerator(\n",
    "    preprocessing_function=keras.applications.resnet50.preprocess_input,\n",
    "    shear_range=0.2,\n",
    "    zoom_range=0.2,\n",
    "    horizontal_flip=True\n",
    ")\n",
    "test_datagen = ImageDataGenerator(\n",
    "    preprocessing_function=keras.applications.resnet50.preprocess_input\n",
    ")\n",
    "train_generator = train_datagen.flow_from_directory(\n",
    "        cmmd_dir+\"subset_two/PNG/TRAIN/\",\n",
    "        color_mode='rgb',\n",
    "        target_size=(224, 224),\n",
    "        batch_size=32,\n",
    "        shuffle=True,\n",
    "        class_mode='binary',\n",
    "        seed=11)\n",
    "validation_generator = test_datagen.flow_from_directory(\n",
    "        cmmd_dir+\"subset_two/PNG/VAL/\",\n",
    "        color_mode='rgb',\n",
    "        target_size=(224, 224),\n",
    "        batch_size=32,\n",
    "        shuffle=True,\n",
    "        class_mode='binary',\n",
    "        seed=11)"
   ]
  },
  {
   "cell_type": "markdown",
   "id": "operational-standing",
   "metadata": {},
   "source": [
    "# ResNet50 Transfer Learning"
   ]
  },
  {
   "cell_type": "code",
   "execution_count": null,
   "id": "statutory-jenny",
   "metadata": {},
   "outputs": [],
   "source": [
    "ResNet50_base = tf.keras.applications.resnet50.ResNet50(\n",
    "    weights='imagenet',\n",
    "    input_shape=(224, 224, 3),\n",
    "    include_top=False)\n",
    "\n",
    "for layer in ResNet50_base.layers:\n",
    "    layer.trainable = False"
   ]
  },
  {
   "cell_type": "code",
   "execution_count": null,
   "id": "reported-refrigerator",
   "metadata": {},
   "outputs": [],
   "source": [
    "model = tf.keras.models.Sequential()\n",
    "model.add(ResNet50_base)\n",
    "model.add(tf.keras.layers.Flatten())\n",
    "model.add(tf.keras.layers.Dropout(0.5))\n",
    "model.add(tf.keras.layers.Dense(1, activation='sigmoid'))\n",
    "\n",
    "model.layers[0].trainable = False\n"
   ]
  },
  {
   "cell_type": "code",
   "execution_count": null,
   "id": "acute-wesley",
   "metadata": {},
   "outputs": [],
   "source": [
    "model.summary()"
   ]
  },
  {
   "cell_type": "code",
   "execution_count": null,
   "id": "willing-projector",
   "metadata": {},
   "outputs": [],
   "source": [
    "import time, os, fnmatch, shutil\n",
    "root_logdir = os.path.join(os.curdir, \"my_logs\")\n",
    "\n",
    "def get_run_logdir():\n",
    "    #TensorBaoard TITLE:\n",
    "    run_id = (\"ResNet50_Transfer_Learning\")\n",
    "    return os.path.join(root_logdir,run_id)\n",
    "\n",
    "run_logdir = get_run_logdir()\n",
    "tensorboard_cb = keras.callbacks.TensorBoard(run_logdir)\n",
    "\n",
    "callbacks = [\n",
    "    keras.callbacks.ModelCheckpoint(\"/media/craig/Henry/ML_models/resnet50/save_at_{epoch}.h5\"),\n",
    "    keras.callbacks.TensorBoard(run_logdir)\n",
    "]"
   ]
  },
  {
   "cell_type": "code",
   "execution_count": null,
   "id": "beneficial-pilot",
   "metadata": {
    "scrolled": true
   },
   "outputs": [],
   "source": [
    "# model.compile(optimizer=tf.keras.optimizers.SGD(lr=0.0001),\n",
    "#               loss=keras.losses.BinaryCrossentropy(from_logits=True),\n",
    "#               metrics=[keras.metrics.BinaryAccuracy()])\n",
    "# history = model.fit(train_generator, epochs=500, callbacks=callbacks, validation_data=validation_generator)"
   ]
  },
  {
   "cell_type": "code",
   "execution_count": null,
   "id": "developmental-designation",
   "metadata": {},
   "outputs": [],
   "source": [
    "model.compile(\n",
    "    loss=keras.losses.BinaryCrossentropy(from_logits=True),\n",
    "    optimizer=tf.keras.optimizers.Adam(),\n",
    "    metrics=[keras.metrics.BinaryAccuracy()]\n",
    ")"
   ]
  },
  {
   "cell_type": "code",
   "execution_count": null,
   "id": "practical-malpractice",
   "metadata": {
    "scrolled": true
   },
   "outputs": [],
   "source": [
    "history = model.fit(\n",
    "    train_generator,\n",
    "#     steps_per_epoch=75,\n",
    "    epochs=500,\n",
    "    validation_data=validation_generator,\n",
    "#     validation_steps=25,\n",
    "    callbacks=callbacks\n",
    ")"
   ]
  },
  {
   "cell_type": "code",
   "execution_count": null,
   "id": "extra-sunday",
   "metadata": {},
   "outputs": [],
   "source": [
    "model.save('/media/craig/Henry/ML_models/resnet50/final_model_epoch_500.h5')"
   ]
  },
  {
   "cell_type": "code",
   "execution_count": null,
   "id": "nutritional-mineral",
   "metadata": {},
   "outputs": [],
   "source": [
    "loss_hist = history.history['val_loss']\n",
    "\n",
    "lowest_val_loss = np.min(loss_hist)\n",
    "best_epochs = np.argmin(loss_hist) + 1\n",
    "print(\"The lowest validation loss is: \"+str(lowest_val_loss)+\"\\nAt epoch: \"+str(best_epochs))\n",
    "\n",
    "bin_acc_hist = history.history['val_binary_accuracy']\n",
    "\n",
    "lowest_val_loss = np.max(bin_acc_hist)\n",
    "best_epochs = np.argmax(bin_acc_hist) + 1\n",
    "print(\"The highest validation acc is: \"+str(lowest_val_loss)+\"\\nAt epoch: \"+str(best_epochs))"
   ]
  }
 ],
 "metadata": {
  "kernelspec": {
   "display_name": "Python 3",
   "language": "python",
   "name": "python3"
  },
  "language_info": {
   "codemirror_mode": {
    "name": "ipython",
    "version": 3
   },
   "file_extension": ".py",
   "mimetype": "text/x-python",
   "name": "python",
   "nbconvert_exporter": "python",
   "pygments_lexer": "ipython3",
   "version": "3.8.10"
  }
 },
 "nbformat": 4,
 "nbformat_minor": 5
}
