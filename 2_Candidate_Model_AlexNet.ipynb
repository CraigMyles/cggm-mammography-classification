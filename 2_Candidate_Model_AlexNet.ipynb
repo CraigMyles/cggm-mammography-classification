{
 "cells": [
  {
   "cell_type": "code",
   "execution_count": null,
   "id": "compound-fighter",
   "metadata": {},
   "outputs": [],
   "source": [
    "import keras\n",
    "import tensorflow as tf\n",
    "from keras.models import Sequential\n",
    "from keras.layers import Dense, Dropout, Activation, Conv2D, MaxPool2D, Flatten\n",
    "from keras import optimizers\n",
    "from keras import losses\n",
    "from keras.utils.vis_utils import plot_model\n",
    "from keras_preprocessing.image import ImageDataGenerator\n",
    "import time, os, fnmatch, shutil"
   ]
  },
  {
   "cell_type": "code",
   "execution_count": null,
   "id": "academic-check",
   "metadata": {},
   "outputs": [],
   "source": [
    "cmmd_dir = \"/media/craig/Larry/python/\"\n",
    "\n",
    "train_datagen = ImageDataGenerator(\n",
    "        rescale=1./255,\n",
    "        rotation_range=20,\n",
    "        shear_range=0.2,\n",
    "        zoom_range=0.2,\n",
    "        vertical_flip=True,\n",
    "        horizontal_flip=True)\n",
    "test_datagen = ImageDataGenerator(\n",
    "    rescale=1./255,\n",
    "    horizontal_flip=True)\n",
    "train_generator = train_datagen.flow_from_directory(\n",
    "        cmmd_dir+\"cmmd_data/PNG/TRAIN/\",\n",
    "        target_size=(227, 227),\n",
    "        color_mode=\"grayscale\",\n",
    "        batch_size=32,\n",
    "        shuffle=True,\n",
    "        class_mode='binary',\n",
    "        seed=14)\n",
    "validation_generator = test_datagen.flow_from_directory(\n",
    "        cmmd_dir+\"cmmd_data/PNG/VAL/\",\n",
    "        target_size=(227, 227),\n",
    "        color_mode=\"grayscale\",\n",
    "        batch_size=32,\n",
    "        shuffle=True,\n",
    "        class_mode='binary',\n",
    "        seed=14)"
   ]
  },
  {
   "cell_type": "markdown",
   "id": "vietnamese-reserve",
   "metadata": {},
   "source": [
    "# Modified AlexNet implementation"
   ]
  },
  {
   "cell_type": "code",
   "execution_count": null,
   "id": "valued-navigation",
   "metadata": {
    "scrolled": true
   },
   "outputs": [],
   "source": [
    "model = keras.models.Sequential([\n",
    "    keras.layers.Conv2D(filters=96, \n",
    "                        kernel_size=(11,11), \n",
    "                        strides=(4,4), \n",
    "                        activation='relu', \n",
    "                        input_shape=(227,227,1)),\n",
    "    keras.layers.BatchNormalization(),\n",
    "    keras.layers.MaxPool2D(pool_size=(3,3), \n",
    "                           strides=(2,2)),\n",
    "    keras.layers.Conv2D(filters=256, \n",
    "                        kernel_size=(5,5), \n",
    "                        strides=(1,1), \n",
    "                        activation='relu', \n",
    "                        padding=\"same\"),\n",
    "    keras.layers.BatchNormalization(),\n",
    "    keras.layers.MaxPool2D(pool_size=(3,3), \n",
    "                           strides=(2,2)),\n",
    "    keras.layers.Conv2D(filters=384, kernel_size=(3,3), \n",
    "                        strides=(1,1), activation='relu', \n",
    "                        padding=\"same\"),\n",
    "    keras.layers.BatchNormalization(),\n",
    "    keras.layers.Conv2D(filters=384, kernel_size=(3,3), \n",
    "                        strides=(1,1), activation='relu', \n",
    "                        padding=\"same\"),\n",
    "    keras.layers.BatchNormalization(),\n",
    "    keras.layers.Conv2D(filters=256, kernel_size=(3,3), \n",
    "                        strides=(1,1), activation='relu', \n",
    "                        padding=\"same\"),\n",
    "    keras.layers.BatchNormalization(),\n",
    "    keras.layers.MaxPool2D(pool_size=(3,3), \n",
    "                           strides=(2,2)),\n",
    "    keras.layers.Flatten(),\n",
    "    keras.layers.Dense(4096, activation='relu'),\n",
    "    keras.layers.Dropout(0.5),\n",
    "    keras.layers.Dense(4096, activation='relu'),\n",
    "    keras.layers.Dropout(0.5),\n",
    "    keras.layers.Dense(1, activation='sigmoid')\n",
    "])\n",
    "# Uncomment for model summary\n",
    "# model.summary()"
   ]
  },
  {
   "cell_type": "code",
   "execution_count": null,
   "id": "arabic-shooting",
   "metadata": {
    "scrolled": false
   },
   "outputs": [],
   "source": [
    "#Uncomment for PNG display of model architecture\n",
    "#plot_model(model, to_file='alexnet_modified_model_plot.png', show_shapes=True, show_layer_names=True)"
   ]
  },
  {
   "cell_type": "code",
   "execution_count": null,
   "id": "taken-diploma",
   "metadata": {},
   "outputs": [],
   "source": [
    "root_logdir = os.path.join(os.curdir, \"my_logs\")\n",
    "def get_run_logdir():\n",
    "    #TensorBosard run TITLE:\n",
    "    run_id = (\"AlexNet_Candidate_Model\")\n",
    "    return os.path.join(root_logdir,run_id)\n",
    "\n",
    "run_logdir = get_run_logdir()\n",
    "tensorboard_cb = keras.callbacks.TensorBoard(run_logdir)\n",
    "\n",
    "callbacks = [\n",
    "    #comment next two lines to stop tensorboard if needed.\n",
    "    keras.callbacks.ModelCheckpoint(\"/media/craig/Henry/ML_models/alexnet/save_at_{epoch}.h5\"),\n",
    "    keras.callbacks.TensorBoard(run_logdir)\n",
    "]"
   ]
  },
  {
   "cell_type": "code",
   "execution_count": null,
   "id": "behavioral-powder",
   "metadata": {
    "scrolled": true
   },
   "outputs": [],
   "source": [
    "model.compile(optimizer=keras.optimizers.Adam(learning_rate=0.0001),\n",
    "              loss=keras.losses.BinaryCrossentropy(from_logits=True),\n",
    "              metrics=[keras.metrics.BinaryAccuracy()])\n",
    "history = model.fit(train_generator, epochs=150, callbacks=callbacks, validation_data=validation_generator)"
   ]
  },
  {
   "cell_type": "code",
   "execution_count": null,
   "id": "eastern-thriller",
   "metadata": {},
   "outputs": [],
   "source": [
    "model.save(\"alexnet_candidate_model.h5\")"
   ]
  }
 ],
 "metadata": {
  "kernelspec": {
   "display_name": "Python 3",
   "language": "python",
   "name": "python3"
  },
  "language_info": {
   "codemirror_mode": {
    "name": "ipython",
    "version": 3
   },
   "file_extension": ".py",
   "mimetype": "text/x-python",
   "name": "python",
   "nbconvert_exporter": "python",
   "pygments_lexer": "ipython3",
   "version": "3.8.10"
  }
 },
 "nbformat": 4,
 "nbformat_minor": 5
}
