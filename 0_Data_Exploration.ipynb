{
 "cells": [
  {
   "cell_type": "markdown",
   "id": "considerable-trance",
   "metadata": {},
   "source": [
    "# Dataset investigation and initial visualisation"
   ]
  },
  {
   "cell_type": "code",
   "execution_count": 1,
   "id": "bored-australian",
   "metadata": {},
   "outputs": [],
   "source": [
    "import pandas as pd\n",
    "import matplotlib.pyplot as plt\n",
    "from pathlib import Path\n",
    "import pydicom\n",
    "from pydicom import dcmread\n",
    "import glob\n",
    "from tqdm import tqdm\n",
    "import os\n",
    "\n",
    "cmmd_manifest_directory = \"/media/craig/Larry/python/manifest-1616439774456/\"\n",
    "path_to_clinical_data = \"/media/craig/Larry/python/CMMD_clinicaldata_revision.xlsx\""
   ]
  },
  {
   "cell_type": "markdown",
   "id": "manual-biology",
   "metadata": {},
   "source": [
    "# CMMD Sample"
   ]
  },
  {
   "cell_type": "code",
   "execution_count": 2,
   "id": "anticipated-carol",
   "metadata": {
    "scrolled": true
   },
   "outputs": [
    {
     "data": {
      "text/plain": [
       "<matplotlib.image.AxesImage at 0x7fd75bde7850>"
      ]
     },
     "execution_count": 2,
     "metadata": {},
     "output_type": "execute_result"
    },
    {
     "data": {
      "image/png": "[encoded data removed]",
      "text/plain": [
       "<Figure size 432x288 with 1 Axes>"
      ]
     },
     "metadata": {
      "needs_background": "light"
     },
     "output_type": "display_data"
    }
   ],
   "source": [
    "cmmd_file_path = cmmd_manifest_directory+\"/CMMD/D1-0001/07-18-2010-NA-NA-79377/1.000000-NA-70244/1-1.dcm\"\n",
    "\n",
    "ds = pydicom.dcmread(cmmd_file_path)\n",
    "plt.imshow(ds.pixel_array, cmap=plt.cm.gray) "
   ]
  },
  {
   "cell_type": "code",
   "execution_count": 3,
   "id": "directed-scratch",
   "metadata": {
    "scrolled": true
   },
   "outputs": [
    {
     "data": {
      "text/plain": [
       "Dataset.file_meta -------------------------------\n",
       "(0002, 0000) File Meta Information Group Length  UL: 208\n",
       "(0002, 0001) File Meta Information Version       OB: b'\\x00\\x01'\n",
       "(0002, 0002) Media Storage SOP Class UID         UI: Digital Mammography X-Ray Image Storage - For Presentation\n",
       "(0002, 0003) Media Storage SOP Instance UID      UI: 1.3.6.1.4.1.14519.5.2.1.1239.1759.171167992666098963734790598197\n",
       "(0002, 0010) Transfer Syntax UID                 UI: Explicit VR Little Endian\n",
       "(0002, 0012) Implementation Class UID            UI: 1.3.6.1.4.1.22213.1.143\n",
       "(0002, 0013) Implementation Version Name         SH: '0.5'\n",
       "(0002, 0016) Source Application Entity Title     AE: 'POSDA'\n",
       "-------------------------------------------------\n",
       "(0008, 0005) Specific Character Set              CS: 'ISO_IR 100'\n",
       "(0008, 0008) Image Type                          CS: ['DERIVED', 'PRIMARY']\n",
       "(0008, 0012) Instance Creation Date              DA: '20170818'\n",
       "(0008, 0013) Instance Creation Time              TM: '114639'\n",
       "(0008, 0014) Instance Creator UID                UI: 1.3.6.1.4.1.14519.5.2.1.1239.1759.256693145395574474618647257749\n",
       "(0008, 0016) SOP Class UID                       UI: Digital Mammography X-Ray Image Storage - For Presentation\n",
       "(0008, 0018) SOP Instance UID                    UI: 1.3.6.1.4.1.14519.5.2.1.1239.1759.171167992666098963734790598197\n",
       "(0008, 0020) Study Date                          DA: '20100718'\n",
       "(0008, 0021) Series Date                         DA: '20100718'\n",
       "(0008, 0022) Acquisition Date                    DA: '20100718'\n",
       "(0008, 0023) Content Date                        DA: '20100718'\n",
       "(0008, 0030) Study Time                          TM: '000000'\n",
       "(0008, 0031) Series Time                         TM: '000000'\n",
       "(0008, 0032) Acquisition Time                    TM: '000000'\n",
       "(0008, 0033) Content Time                        TM: '000000'\n",
       "(0008, 0050) Accession Number                    SH: ''\n",
       "(0008, 0060) Modality                            CS: 'MG'\n",
       "(0008, 0068) Presentation Intent Type            CS: 'FOR PRESENTATION'\n",
       "(0008, 0070) Manufacturer                        LO: ''\n",
       "(0008, 0090) Referring Physician's Name          PN: ''\n",
       "(0008, 2218)  Anatomic Region Sequence  1 item(s) ---- \n",
       "   (0008, 0100) Code Value                          SH: '76752008'\n",
       "   (0008, 0102) Coding Scheme Designator            SH: 'SCT'\n",
       "   (0008, 0104) Code Meaning                        LO: 'Breast'\n",
       "   ---------\n",
       "(0010, 0010) Patient's Name                      PN: 'D1-0001'\n",
       "(0010, 0020) Patient ID                          LO: 'D1-0001'\n",
       "(0010, 0030) Patient's Birth Date                DA: ''\n",
       "(0010, 0040) Patient's Sex                       CS: 'F'\n",
       "(0010, 1010) Patient's Age                       AS: '044Y'\n",
       "(0012, 0062) Patient Identity Removed            CS: 'YES'\n",
       "(0012, 0063) De-identification Method            LO: 'Per DICOM PS 3.15 AnnexE. Details in 0012,0064'\n",
       "(0012, 0064)  De-identification Method Code Sequence  8 item(s) ---- \n",
       "   (0008, 0100) Code Value                          SH: '113100'\n",
       "   (0008, 0102) Coding Scheme Designator            SH: 'DCM'\n",
       "   (0008, 0104) Code Meaning                        LO: 'Basic Application Confidentiality Profile'\n",
       "   ---------\n",
       "   (0008, 0100) Code Value                          SH: '113101'\n",
       "   (0008, 0102) Coding Scheme Designator            SH: 'DCM'\n",
       "   (0008, 0104) Code Meaning                        LO: 'Clean Pixel Data Option'\n",
       "   ---------\n",
       "   (0008, 0100) Code Value                          SH: '113104'\n",
       "   (0008, 0102) Coding Scheme Designator            SH: 'DCM'\n",
       "   (0008, 0104) Code Meaning                        LO: 'Clean Structured Content Option'\n",
       "   ---------\n",
       "   (0008, 0100) Code Value                          SH: '113105'\n",
       "   (0008, 0102) Coding Scheme Designator            SH: 'DCM'\n",
       "   (0008, 0104) Code Meaning                        LO: 'Clean Descriptors Option'\n",
       "   ---------\n",
       "   (0008, 0100) Code Value                          SH: '113107'\n",
       "   (0008, 0102) Coding Scheme Designator            SH: 'DCM'\n",
       "   (0008, 0104) Code Meaning                        LO: 'Retain Longitudinal Temporal Information Modified Dates Option'\n",
       "   ---------\n",
       "   (0008, 0100) Code Value                          SH: '113108'\n",
       "   (0008, 0102) Coding Scheme Designator            SH: 'DCM'\n",
       "   (0008, 0104) Code Meaning                        LO: 'Retain Patient Characteristics Option'\n",
       "   ---------\n",
       "   (0008, 0100) Code Value                          SH: '113109'\n",
       "   (0008, 0102) Coding Scheme Designator            SH: 'DCM'\n",
       "   (0008, 0104) Code Meaning                        LO: 'Retain Device Identity Option'\n",
       "   ---------\n",
       "   (0008, 0100) Code Value                          SH: '113111'\n",
       "   (0008, 0102) Coding Scheme Designator            SH: 'DCM'\n",
       "   (0008, 0104) Code Meaning                        LO: 'Retain Safe Private Option'\n",
       "   ---------\n",
       "(0013, 0010) Private Creator                     LO: 'CTP'\n",
       "(0013, 1010) Private tag data                    LO: 'CMMD'\n",
       "(0013, 1013) Private tag data                    LO: '12391759'\n",
       "(0018, 0015) Body Part Examined                  CS: 'BREAST'\n",
       "(0018, 1164) Imager Pixel Spacing                DS: [0.094090909, 0.094090909]\n",
       "(0018, 1508) Positioner Type                     CS: 'MAMMOGRAPHIC'\n",
       "(0018, 7004) Detector Type                       CS: 'SCINTILLATOR'\n",
       "(0020, 000d) Study Instance UID                  UI: 1.3.6.1.4.1.14519.5.2.1.1239.1759.335790956129760663091398779377\n",
       "(0020, 000e) Series Instance UID                 UI: 1.3.6.1.4.1.14519.5.2.1.1239.1759.623006463861567934606116970244\n",
       "(0020, 0010) Study ID                            SH: ''\n",
       "(0020, 0011) Series Number                       IS: \"1\"\n",
       "(0020, 0013) Instance Number                     IS: \"1\"\n",
       "(0020, 0020) Patient Orientation                 CS: ['P', 'L']\n",
       "(0020, 0062) Image Laterality                    CS: 'R'\n",
       "(0028, 0002) Samples per Pixel                   US: 1\n",
       "(0028, 0004) Photometric Interpretation          CS: 'MONOCHROME2'\n",
       "(0028, 0010) Rows                                US: 2294\n",
       "(0028, 0011) Columns                             US: 1914\n",
       "(0028, 0100) Bits Allocated                      US: 8\n",
       "(0028, 0101) Bits Stored                         US: 8\n",
       "(0028, 0102) High Bit                            US: 7\n",
       "(0028, 0103) Pixel Representation                US: 0\n",
       "(0028, 0301) Burned In Annotation                CS: 'NO'\n",
       "(0028, 0303) Longitudinal Temporal Information M CS: 'MODIFIED'\n",
       "(0028, 1040) Pixel Intensity Relationship        CS: 'LOG'\n",
       "(0028, 1041) Pixel Intensity Relationship Sign   SS: -1\n",
       "(0028, 1050) Window Center                       DS: \"128.0\"\n",
       "(0028, 1051) Window Width                        DS: \"256.0\"\n",
       "(0028, 1052) Rescale Intercept                   DS: \"0.0\"\n",
       "(0028, 1053) Rescale Slope                       DS: \"1.0\"\n",
       "(0028, 1054) Rescale Type                        LO: 'US'\n",
       "(0028, 1055) Window Center & Width Explanation   LO: 'Full width of 8 bit data'\n",
       "(0028, 1056) VOI LUT Function                    CS: 'SIGMOID'\n",
       "(0028, 2110) Lossy Image Compression             CS: '00'\n",
       "(0040, 0318) Organ Exposed                       CS: 'BREAST'\n",
       "(0040, 0555)  Acquisition Context Sequence  0 item(s) ---- \n",
       "(0054, 0220)  View Code Sequence  1 item(s) ---- \n",
       "   (0008, 0100) Code Value                          SH: '399162004'\n",
       "   (0008, 0102) Coding Scheme Designator            SH: 'SCT'\n",
       "   (0008, 0104) Code Meaning                        LO: 'cranio-caudal'\n",
       "   (0054, 0222)  View Modifier Code Sequence  0 item(s) ---- \n",
       "   ---------\n",
       "(2050, 0020) Presentation LUT Shape              CS: 'IDENTITY'\n",
       "(7fe0, 0010) Pixel Data                          OB: Array of 4390716 elements"
      ]
     },
     "execution_count": 3,
     "metadata": {},
     "output_type": "execute_result"
    }
   ],
   "source": [
    "\n",
    "ds = dcmread(cmmd_file_path)\n",
    "ds"
   ]
  },
  {
   "cell_type": "code",
   "execution_count": 4,
   "id": "otherwise-district",
   "metadata": {},
   "outputs": [
    {
     "data": {
      "text/plain": [
       "Text(0.5, 1.0, 'medio-lateral oblique')"
      ]
     },
     "execution_count": 4,
     "metadata": {},
     "output_type": "execute_result"
    },
    {
     "data": {
      "image/png": "[encoded data removed]",
      "text/plain": [
       "<Figure size 648x648 with 2 Axes>"
      ]
     },
     "metadata": {
      "needs_background": "light"
     },
     "output_type": "display_data"
    }
   ],
   "source": [
    "import matplotlib.pyplot as plt\n",
    "import pydicom\n",
    "from pydicom import dcmread\n",
    "\n",
    "#Plot display code edited from https://www.geeksforgeeks.org/how-to-display-multiple-images-in-one-figure-correctly-in-matplotlib/\n",
    "    \n",
    "# create figure\n",
    "fig = plt.figure(figsize=(9, 9))\n",
    "  \n",
    "# setting values to rows and column variables\n",
    "rows = 1\n",
    "columns = 2\n",
    "\n",
    "cmmd_file_path = cmmd_manifest_directory+\"/CMMD/D1-0287/07-18-2011-NA-NA-72228/1.000000-NA-13583/1-1.dcm\"\n",
    "\n",
    "Image1 = pydicom.dcmread(cmmd_file_path)\n",
    "\n",
    "cmmd_file_path = cmmd_manifest_directory+\"/CMMD/D1-0287/07-18-2011-NA-NA-72228/1.000000-NA-13583/1-2.dcm\"\n",
    "\n",
    "Image2 = pydicom.dcmread(cmmd_file_path)\n",
    "\n",
    "# Adds a subplot at the 1st position\n",
    "fig.add_subplot(rows, columns, 1)\n",
    "  \n",
    "# showing image\n",
    "plt.imshow(Image1.pixel_array, cmap=plt.cm.gray)\n",
    "plt.axis('off')\n",
    "plt.title(\"cranio-caudal\", fontsize=24)\n",
    "  \n",
    "# Adds a subplot at the 2nd position\n",
    "fig.add_subplot(rows, columns, 2)\n",
    "  \n",
    "# showing image\n",
    "plt.imshow(Image2.pixel_array, cmap=plt.cm.gray)\n",
    "plt.axis('off')\n",
    "plt.title(\"medio-lateral oblique\", fontsize=24)\n",
    "# plt.savefig(\"./output/cmmd_projection_compare.png\", bbox_inches=\"tight\")"
   ]
  },
  {
   "cell_type": "code",
   "execution_count": null,
   "id": "infinite-joyce",
   "metadata": {},
   "outputs": [],
   "source": []
  },
  {
   "cell_type": "code",
   "execution_count": null,
   "id": "cutting-tourist",
   "metadata": {},
   "outputs": [],
   "source": []
  },
  {
   "cell_type": "code",
   "execution_count": null,
   "id": "interracial-colonial",
   "metadata": {},
   "outputs": [],
   "source": []
  },
  {
   "cell_type": "code",
   "execution_count": 5,
   "id": "periodic-session",
   "metadata": {},
   "outputs": [],
   "source": [
    "cmmd_root = \"/media/craig/6848080D4807D928/st_andrews/CMMD_dataset/manifest-1616439774456\"\n",
    "\n",
    "ds1 = dcmread(cmmd_root+\"/CMMD/D1-0021/07-18-2010-45484/1.000000-37894/1-1.dcm\")\n",
    "ds2 = dcmread(cmmd_root+\"/CMMD/D1-0021/07-18-2010-45484/1.000000-37894/1-3.dcm\")"
   ]
  },
  {
   "cell_type": "code",
   "execution_count": 6,
   "id": "supported-authority",
   "metadata": {
    "scrolled": true
   },
   "outputs": [],
   "source": [
    "#Uncomment below to get dicom metadata\n",
    "# ds1"
   ]
  },
  {
   "cell_type": "code",
   "execution_count": 7,
   "id": "coordinate-kazakhstan",
   "metadata": {
    "scrolled": true
   },
   "outputs": [],
   "source": [
    "#Uncomment below to get dicom metadata\n",
    "# ds2"
   ]
  },
  {
   "cell_type": "code",
   "execution_count": 8,
   "id": "sunset-museum",
   "metadata": {},
   "outputs": [],
   "source": [
    "path_to_metadata = cmmd_manifest_directory+\"metadata.csv\"\n",
    "\n",
    "clinical_data = pd.read_excel(path_to_clinical_data)\n",
    "meta_data = pd.read_csv(path_to_metadata)"
   ]
  },
  {
   "cell_type": "code",
   "execution_count": 9,
   "id": "classified-drink",
   "metadata": {},
   "outputs": [],
   "source": [
    "#Uncomment below to display data\n",
    "#clinical_data"
   ]
  },
  {
   "cell_type": "code",
   "execution_count": 10,
   "id": "portuguese-copying",
   "metadata": {
    "scrolled": true
   },
   "outputs": [],
   "source": [
    "#Uncomment below to display data\n",
    "#meta_data"
   ]
  },
  {
   "cell_type": "code",
   "execution_count": 11,
   "id": "superior-thumb",
   "metadata": {},
   "outputs": [],
   "source": [
    "#Subset into only SubjectID, Number of Images, and File Location\n",
    "meta_subset = meta_data.loc[:, ['Subject ID','Number of Images', 'File Location']]"
   ]
  },
  {
   "cell_type": "code",
   "execution_count": 12,
   "id": "olive-criminal",
   "metadata": {
    "scrolled": false
   },
   "outputs": [],
   "source": [
    "#Uncomment below to display data\n",
    "#meta_subset"
   ]
  },
  {
   "cell_type": "code",
   "execution_count": null,
   "id": "american-island",
   "metadata": {},
   "outputs": [],
   "source": []
  },
  {
   "cell_type": "code",
   "execution_count": 13,
   "id": "genuine-adelaide",
   "metadata": {},
   "outputs": [],
   "source": [
    "#Align column name\n",
    "df1 = clinical_data.rename(columns={\"ID1\": \"Subject_ID\"})\n",
    "df2 = meta_subset.rename(columns={\"Subject ID\": \"Subject_ID\"})"
   ]
  },
  {
   "cell_type": "code",
   "execution_count": 14,
   "id": "conservative-marriage",
   "metadata": {},
   "outputs": [],
   "source": [
    "# Merge the two dataframes, using _ID column as key\n",
    "df3 = pd.merge(df1, df2, on = 'Subject_ID')\n",
    "df3.set_index('Subject_ID', inplace = True)"
   ]
  },
  {
   "cell_type": "code",
   "execution_count": 15,
   "id": "hourly-dutch",
   "metadata": {},
   "outputs": [],
   "source": [
    "#Uncomment below to display data\n",
    "# df3"
   ]
  },
  {
   "cell_type": "code",
   "execution_count": 16,
   "id": "nervous-stranger",
   "metadata": {},
   "outputs": [],
   "source": [
    "#Add column for image 1 and image 2\n",
    "df3['img_1'] = ''\n",
    "df3['img_2'] = ''"
   ]
  },
  {
   "cell_type": "code",
   "execution_count": 17,
   "id": "extraordinary-workshop",
   "metadata": {
    "scrolled": true
   },
   "outputs": [],
   "source": [
    "#Uncomment below to display data\n",
    "# df3"
   ]
  },
  {
   "cell_type": "code",
   "execution_count": 18,
   "id": "effective-representation",
   "metadata": {},
   "outputs": [
    {
     "name": "stderr",
     "output_type": "stream",
     "text": [
      "100%|██████████| 1641/1641 [00:00<00:00, 2424.83it/s]\n"
     ]
    }
   ],
   "source": [
    "#Sort for cases where single patient_id's have >2 mammography images\n",
    "for i in tqdm(range(len(df3))):\n",
    "    if i==0:\n",
    "        continue\n",
    "        \n",
    "    #If the current file path is the same as the previous path\n",
    "    if df3.iloc[i]['File Location'] == df3.iloc[i-1]['File Location']:\n",
    "        #If file path is the same as previous, that means there is >2\n",
    "        df3.iloc[i, df3.columns.get_loc('img_1')] = \"1-3.dcm\"\n",
    "        df3.iloc[i, df3.columns.get_loc('img_2')] = \"1-4.dcm\"\n",
    "    else:\n",
    "        df3.iloc[i, df3.columns.get_loc('img_1')] = \"1-1.dcm\"\n",
    "        df3.iloc[i, df3.columns.get_loc('img_2')] = \"1-2.dcm\""
   ]
  },
  {
   "cell_type": "code",
   "execution_count": 19,
   "id": "tender-trace",
   "metadata": {},
   "outputs": [],
   "source": [
    "#Create new empty dataframe\n",
    "df4 = pd.DataFrame(columns=[\"subject_id\", \"leftright\", \"age\", \"abnormality\",\n",
    "                            \"classification\", \"subtype\", \"file_location\"])\n"
   ]
  },
  {
   "cell_type": "code",
   "execution_count": 20,
   "id": "hungarian-hawaii",
   "metadata": {},
   "outputs": [],
   "source": [
    "#Uncomment below to see dataframe headings.\n",
    "# df4"
   ]
  },
  {
   "cell_type": "code",
   "execution_count": 21,
   "id": "organizational-columbus",
   "metadata": {},
   "outputs": [],
   "source": [
    "#fix index, one to right.\n",
    "df3 = df3.reset_index()"
   ]
  },
  {
   "cell_type": "code",
   "execution_count": 22,
   "id": "owned-accommodation",
   "metadata": {
    "scrolled": true
   },
   "outputs": [
    {
     "data": {
      "text/html": [
       "<div>\n",
       "<style scoped>\n",
       "    .dataframe tbody tr th:only-of-type {\n",
       "        vertical-align: middle;\n",
       "    }\n",
       "\n",
       "    .dataframe tbody tr th {\n",
       "        vertical-align: top;\n",
       "    }\n",
       "\n",
       "    .dataframe thead th {\n",
       "        text-align: right;\n",
       "    }\n",
       "</style>\n",
       "<table border=\"1\" class=\"dataframe\">\n",
       "  <thead>\n",
       "    <tr style=\"text-align: right;\">\n",
       "      <th></th>\n",
       "      <th>Subject_ID</th>\n",
       "      <th>LeftRight</th>\n",
       "      <th>Age</th>\n",
       "      <th>number</th>\n",
       "      <th>abnormality</th>\n",
       "      <th>classification</th>\n",
       "      <th>subtype</th>\n",
       "      <th>Number of Images</th>\n",
       "      <th>File Location</th>\n",
       "      <th>img_1</th>\n",
       "      <th>img_2</th>\n",
       "    </tr>\n",
       "  </thead>\n",
       "  <tbody>\n",
       "    <tr>\n",
       "      <th>0</th>\n",
       "      <td>D1-0001</td>\n",
       "      <td>R</td>\n",
       "      <td>44</td>\n",
       "      <td>2</td>\n",
       "      <td>calcification</td>\n",
       "      <td>Benign</td>\n",
       "      <td>NaN</td>\n",
       "      <td>2</td>\n",
       "      <td>./CMMD/D1-0001/07-18-2010-NA-NA-79377/1.000000...</td>\n",
       "      <td></td>\n",
       "      <td></td>\n",
       "    </tr>\n",
       "    <tr>\n",
       "      <th>1</th>\n",
       "      <td>D1-0002</td>\n",
       "      <td>L</td>\n",
       "      <td>40</td>\n",
       "      <td>2</td>\n",
       "      <td>calcification</td>\n",
       "      <td>Benign</td>\n",
       "      <td>NaN</td>\n",
       "      <td>2</td>\n",
       "      <td>./CMMD/D1-0002/07-18-2010-NA-NA-49231/1.000000...</td>\n",
       "      <td>1-1.dcm</td>\n",
       "      <td>1-2.dcm</td>\n",
       "    </tr>\n",
       "    <tr>\n",
       "      <th>2</th>\n",
       "      <td>D1-0003</td>\n",
       "      <td>L</td>\n",
       "      <td>39</td>\n",
       "      <td>2</td>\n",
       "      <td>calcification</td>\n",
       "      <td>Benign</td>\n",
       "      <td>NaN</td>\n",
       "      <td>2</td>\n",
       "      <td>./CMMD/D1-0003/07-18-2011-NA-NA-25491/1.000000...</td>\n",
       "      <td>1-1.dcm</td>\n",
       "      <td>1-2.dcm</td>\n",
       "    </tr>\n",
       "    <tr>\n",
       "      <th>3</th>\n",
       "      <td>D1-0004</td>\n",
       "      <td>L</td>\n",
       "      <td>41</td>\n",
       "      <td>2</td>\n",
       "      <td>calcification</td>\n",
       "      <td>Benign</td>\n",
       "      <td>NaN</td>\n",
       "      <td>2</td>\n",
       "      <td>./CMMD/D1-0004/07-18-2011-NA-NA-14914/1.000000...</td>\n",
       "      <td>1-1.dcm</td>\n",
       "      <td>1-2.dcm</td>\n",
       "    </tr>\n",
       "    <tr>\n",
       "      <th>4</th>\n",
       "      <td>D1-0005</td>\n",
       "      <td>R</td>\n",
       "      <td>42</td>\n",
       "      <td>2</td>\n",
       "      <td>calcification</td>\n",
       "      <td>Benign</td>\n",
       "      <td>NaN</td>\n",
       "      <td>2</td>\n",
       "      <td>./CMMD/D1-0005/07-18-2011-NA-NA-52347/1.000000...</td>\n",
       "      <td>1-1.dcm</td>\n",
       "      <td>1-2.dcm</td>\n",
       "    </tr>\n",
       "  </tbody>\n",
       "</table>\n",
       "</div>"
      ],
      "text/plain": [
       "  Subject_ID LeftRight  Age  number    abnormality classification subtype  \\\n",
       "0    D1-0001         R   44       2  calcification         Benign     NaN   \n",
       "1    D1-0002         L   40       2  calcification         Benign     NaN   \n",
       "2    D1-0003         L   39       2  calcification         Benign     NaN   \n",
       "3    D1-0004         L   41       2  calcification         Benign     NaN   \n",
       "4    D1-0005         R   42       2  calcification         Benign     NaN   \n",
       "\n",
       "   Number of Images                                      File Location  \\\n",
       "0                 2  ./CMMD/D1-0001/07-18-2010-NA-NA-79377/1.000000...   \n",
       "1                 2  ./CMMD/D1-0002/07-18-2010-NA-NA-49231/1.000000...   \n",
       "2                 2  ./CMMD/D1-0003/07-18-2011-NA-NA-25491/1.000000...   \n",
       "3                 2  ./CMMD/D1-0004/07-18-2011-NA-NA-14914/1.000000...   \n",
       "4                 2  ./CMMD/D1-0005/07-18-2011-NA-NA-52347/1.000000...   \n",
       "\n",
       "     img_1    img_2  \n",
       "0                    \n",
       "1  1-1.dcm  1-2.dcm  \n",
       "2  1-1.dcm  1-2.dcm  \n",
       "3  1-1.dcm  1-2.dcm  \n",
       "4  1-1.dcm  1-2.dcm  "
      ]
     },
     "execution_count": 22,
     "metadata": {},
     "output_type": "execute_result"
    }
   ],
   "source": [
    "df3.head(5)"
   ]
  },
  {
   "cell_type": "code",
   "execution_count": null,
   "id": "fossil-royalty",
   "metadata": {},
   "outputs": [],
   "source": []
  },
  {
   "cell_type": "code",
   "execution_count": 23,
   "id": "supposed-battlefield",
   "metadata": {},
   "outputs": [],
   "source": [
    "# Iterate through each line in the dataframe, determine file\n",
    "# location based on odd/even integers for scan type. (see pdf\n",
    "# for data stratificaiton explanation)\n",
    "def create_row(i, df4, flag=False):\n",
    "    appended_data = []\n",
    "    j = 0\n",
    "    while j < 2:\n",
    "\n",
    "        if not flag:\n",
    "            if j == 0:\n",
    "                file_loc = str(df3.iloc[i, df3.columns.get_loc('File Location')])+\"/1-1.dcm\"\n",
    "            else:\n",
    "                file_loc = str(df3.iloc[i, df3.columns.get_loc('File Location')])+\"/1-2.dcm\"\n",
    "        \n",
    "        if flag:\n",
    "            if j == 0:\n",
    "                file_loc = str(df3.iloc[i, df3.columns.get_loc('File Location')])+\"/1-3.dcm\"\n",
    "            else:\n",
    "                file_loc = str(df3.iloc[i, df3.columns.get_loc('File Location')])+\"/1-4.dcm\"\n",
    "# Uncomment if debugging\n",
    "#         print(\"iteration:\"+str(i))\n",
    "#         print(file_loc)\n",
    "        new_row = {\n",
    "            'subject_id':    df3.iloc[i, df3.columns.get_loc('Subject_ID')],\n",
    "            'leftright':     df3.iloc[i, df3.columns.get_loc('LeftRight')],\n",
    "            'age':           df3.iloc[i, df3.columns.get_loc('Age')],\n",
    "            'abnormality':   df3.iloc[i, df3.columns.get_loc('abnormality')],\n",
    "            'classification':df3.iloc[i, df3.columns.get_loc('classification')],\n",
    "            'subtype':       df3.iloc[i, df3.columns.get_loc('subtype')],\n",
    "            'file_location': file_loc\n",
    "        }\n",
    "        appended_data.append(new_row)\n",
    "        df4 = df4.append(new_row, ignore_index=True)\n",
    "#         print(len(df4))\n",
    "        j += 1\n",
    "    return appended_data\n",
    "        \n",
    "        \n",
    "\n",
    "    "
   ]
  },
  {
   "cell_type": "code",
   "execution_count": 24,
   "id": "consistent-liability",
   "metadata": {},
   "outputs": [
    {
     "name": "stderr",
     "output_type": "stream",
     "text": [
      "100%|██████████| 1641/1641 [00:09<00:00, 171.50it/s]\n"
     ]
    }
   ],
   "source": [
    "#For all items in the manifest\n",
    "for i in tqdm(range(len(df3))):\n",
    "    #skip 0th item because cant compare to -1th item.\n",
    "    if i==0:\n",
    "        #create regular row\n",
    "        data_to_append = create_row(i, df4)\n",
    "        \n",
    "        df4 = df4.append(data_to_append, ignore_index=True)\n",
    "        continue\n",
    "    #if the file location equals the same as the one before...\n",
    "    if df3.iloc[i]['File Location'] == df3.iloc[i-1]['File Location']:\n",
    "        #True because this folder has 1,2,3,4 images\n",
    "        data_to_append = create_row(i, df4, True)\n",
    "        \n",
    "        df4 = df4.append(data_to_append, ignore_index=True)\n",
    "    else:\n",
    "        data_to_append = create_row(i, df4)\n",
    "        \n",
    "        df4 = df4.append(data_to_append, ignore_index=True)"
   ]
  },
  {
   "cell_type": "code",
   "execution_count": null,
   "id": "cardiovascular-south",
   "metadata": {},
   "outputs": [],
   "source": []
  },
  {
   "cell_type": "code",
   "execution_count": null,
   "id": "third-bronze",
   "metadata": {},
   "outputs": [],
   "source": []
  },
  {
   "cell_type": "code",
   "execution_count": 25,
   "id": "independent-separate",
   "metadata": {
    "scrolled": true
   },
   "outputs": [],
   "source": [
    "#Uncomment to display final dataframe preview\n",
    "# df4"
   ]
  },
  {
   "cell_type": "code",
   "execution_count": 26,
   "id": "virgin-builder",
   "metadata": {},
   "outputs": [],
   "source": [
    "df4.to_csv(\"./CMMD_metadata_subset.csv\", index=False)"
   ]
  },
  {
   "cell_type": "code",
   "execution_count": null,
   "id": "apparent-democrat",
   "metadata": {},
   "outputs": [],
   "source": []
  },
  {
   "cell_type": "code",
   "execution_count": null,
   "id": "endangered-perry",
   "metadata": {},
   "outputs": [],
   "source": []
  },
  {
   "cell_type": "code",
   "execution_count": 27,
   "id": "about-douglas",
   "metadata": {},
   "outputs": [
    {
     "name": "stderr",
     "output_type": "stream",
     "text": [
      "100%|██████████| 3282/3282 [00:00<00:00, 6460.79it/s]\n"
     ]
    }
   ],
   "source": [
    "#Append the /path/to/manifest/ to \"1-1.dcm\" or \"1-2.dcm\" etc...\n",
    "for i in tqdm(range(len(df4))):\n",
    "    begin_path = cmmd_manifest_directory[:-1]\n",
    "    acc_file = df4.iloc[i]['file_location']\n",
    "    my_file_loc = str(begin_path+acc_file[1:])\n",
    "    if not os.path.isfile(my_file_loc):\n",
    "        print(\"WARNING, the following file does not exist:\\n\"+my_file_loc)"
   ]
  },
  {
   "cell_type": "code",
   "execution_count": 28,
   "id": "architectural-message",
   "metadata": {},
   "outputs": [],
   "source": [
    "#Save newly curated metadata file.\n",
    "df4.to_csv('CMMD_metadata.csv', encoding='utf-8')"
   ]
  }
 ],
 "metadata": {
  "kernelspec": {
   "display_name": "Python 3",
   "language": "python",
   "name": "python3"
  },
  "language_info": {
   "codemirror_mode": {
    "name": "ipython",
    "version": 3
   },
   "file_extension": ".py",
   "mimetype": "text/x-python",
   "name": "python",
   "nbconvert_exporter": "python",
   "pygments_lexer": "ipython3",
   "version": "3.8.10"
  }
 },
 "nbformat": 4,
 "nbformat_minor": 5
}
