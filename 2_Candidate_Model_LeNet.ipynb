{
 "cells": [
  {
   "cell_type": "code",
   "execution_count": null,
   "id": "compound-fighter",
   "metadata": {},
   "outputs": [],
   "source": [
    "import keras\n",
    "import tensorflow as tf\n",
    "from keras.models import Sequential\n",
    "from keras.layers import Dense, Dropout, Activation, Conv2D, MaxPool2D, Flatten\n",
    "from keras import optimizers\n",
    "from keras import losses\n",
    "from keras.utils.vis_utils import plot_model\n",
    "from keras_preprocessing.image import ImageDataGenerator\n",
    "import time, os, fnmatch, shutil"
   ]
  },
  {
   "cell_type": "code",
   "execution_count": null,
   "id": "academic-check",
   "metadata": {},
   "outputs": [],
   "source": [
    "cmmd_dir = \"/media/craig/Larry/python/\"\n",
    "\n",
    "train_datagen = ImageDataGenerator(\n",
    "        rescale=1./255,\n",
    "        rotation_range=20,\n",
    "        shear_range=0.2,\n",
    "        zoom_range=0.2,\n",
    "        vertical_flip=True,\n",
    "        horizontal_flip=True)\n",
    "test_datagen = ImageDataGenerator(\n",
    "    rescale=1./255,\n",
    "    horizontal_flip=True)\n",
    "train_generator = train_datagen.flow_from_directory(\n",
    "        cmmd_dir+\"cmmd_data/PNG/TRAIN/\",\n",
    "        target_size=(227, 227),\n",
    "        color_mode=\"grayscale\",\n",
    "        batch_size=32,\n",
    "        shuffle=True,\n",
    "        class_mode='binary',\n",
    "        seed=14)\n",
    "validation_generator = test_datagen.flow_from_directory(\n",
    "        cmmd_dir+\"cmmd_data/PNG/VAL/\",\n",
    "        target_size=(227, 227),\n",
    "        color_mode=\"grayscale\",\n",
    "        batch_size=32,\n",
    "        shuffle=True,\n",
    "        class_mode='binary',\n",
    "        seed=14)"
   ]
  },
  {
   "cell_type": "markdown",
   "id": "beginning-arrest",
   "metadata": {},
   "source": [
    "# Modified LeNet implementation"
   ]
  },
  {
   "cell_type": "code",
   "execution_count": null,
   "id": "valued-navigation",
   "metadata": {},
   "outputs": [],
   "source": [
    "model = keras.Sequential()\n",
    "\n",
    "model.add(keras.layers.Conv2D(filters=6, \n",
    "                              kernel_size=(3, 3), \n",
    "                              activation='relu', \n",
    "                              input_shape=(256,256,1)))\n",
    "model.add(keras.layers.AveragePooling2D())\n",
    "\n",
    "model.add(keras.layers.Conv2D(filters=16, \n",
    "                              kernel_size=(3, 3), \n",
    "                              activation='relu'))\n",
    "model.add(keras.layers.AveragePooling2D())\n",
    "\n",
    "model.add(keras.layers.Flatten())\n",
    "\n",
    "model.add(keras.layers.Dense(units=120, \n",
    "                             activation='relu'))\n",
    "\n",
    "model.add(keras.layers.Dense(units=84, \n",
    "                             activation='relu'))\n",
    "\n",
    "model.add(keras.layers.Dense(1, activation='sigmoid'))\n",
    "\n",
    "# Uncomment for model summary\n",
    "# model.summary()"
   ]
  },
  {
   "cell_type": "code",
   "execution_count": null,
   "id": "taken-diploma",
   "metadata": {},
   "outputs": [],
   "source": [
    "root_logdir = os.path.join(os.curdir, \"my_logs\")\n",
    "\n",
    "def get_run_logdir():\n",
    "    #TensorBosard run TITLE:\n",
    "    run_id = (\"LeNet_Candidate_Model\")\n",
    "    return os.path.join(root_logdir,run_id)\n",
    "\n",
    "run_logdir = get_run_logdir()\n",
    "tensorboard_cb = keras.callbacks.TensorBoard(run_logdir)\n",
    "\n",
    "callbacks = [\n",
    "    #comment next two lines to stop tensorboard if needed.\n",
    "    keras.callbacks.ModelCheckpoint(\"/media/craig/Henry/ML_models/lenet/save_at_{epoch}.h5\"),\n",
    "    keras.callbacks.TensorBoard(run_logdir)\n",
    "]"
   ]
  },
  {
   "cell_type": "code",
   "execution_count": null,
   "id": "behavioral-powder",
   "metadata": {
    "scrolled": true
   },
   "outputs": [],
   "source": [
    "model.compile(optimizer=keras.optimizers.Adam(learning_rate=0.0001),\n",
    "              loss=keras.losses.BinaryCrossentropy(from_logits=True),\n",
    "              metrics=[keras.metrics.BinaryAccuracy()])\n",
    "history = model.fit(train_generator, epochs=150, callbacks=callbacks, validation_data=validation_generator)"
   ]
  },
  {
   "cell_type": "code",
   "execution_count": null,
   "id": "eastern-thriller",
   "metadata": {},
   "outputs": [],
   "source": [
    "model.save(\"lenet_candidate_model.h5\")"
   ]
  }
 ],
 "metadata": {
  "kernelspec": {
   "display_name": "Python 3",
   "language": "python",
   "name": "python3"
  },
  "language_info": {
   "codemirror_mode": {
    "name": "ipython",
    "version": 3
   },
   "file_extension": ".py",
   "mimetype": "text/x-python",
   "name": "python",
   "nbconvert_exporter": "python",
   "pygments_lexer": "ipython3",
   "version": "3.8.10"
  }
 },
 "nbformat": 4,
 "nbformat_minor": 5
}
